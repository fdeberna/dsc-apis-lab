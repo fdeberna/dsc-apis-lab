{
 "cells": [
  {
   "cell_type": "markdown",
   "metadata": {},
   "source": [
    "# APIs - Cumulative Lab\n",
    "\n",
    "\n",
    "## Introduction \n",
    "\n",
    "We've seen how the Yelp API works and how to create basic visualizations using Folium. It's time to put those skills to work in order to create a working map! Taking things a step further, you'll also independently explore how to perform pagination in order to retrieve a full results set from the Yelp API.\n",
    "\n",
    "## Objectives\n",
    "\n",
    "You will be able to: \n",
    "\n",
    "* Practice using functions to organize your code\n",
    "* Use pagination to retrieve all results from an API query\n",
    "* Practice parsing data returned from an API query\n",
    "* Practice interpreting visualizations of a dataset\n",
    "* Create maps using Folium"
   ]
  },
  {
   "cell_type": "markdown",
   "metadata": {},
   "source": [
    "## Your Task: Query Yelp for All Businesses in a Category and Analyze the Results\n",
    "\n",
    "![restaurant counter with pizza](images/restaurant_counter.jpg)\n",
    "\n",
    "Photo by <a href=\"https://unsplash.com/@jordanmadrid?utm_source=unsplash&utm_medium=referral&utm_content=creditCopyText\">Jordan Madrid</a> on <a href=\"/s/photos/pizza-restaurant?utm_source=unsplash&utm_medium=referral&utm_content=creditCopyText\">Unsplash</a>"
   ]
  },
  {
   "cell_type": "markdown",
   "metadata": {},
   "source": [
    "### Overview\n",
    "\n",
    "You've now worked with some API calls, but we have yet to see how to retrieve a more complete dataset in a programmatic manner. In this lab, you will write a query of businesses on Yelp, then use *pagination* to retrieve all possible results for that query. Then you will create a summary of your findings, including a Folium map of the geographic locations of those businesses.\n",
    "\n",
    "### Technical Details\n",
    "\n",
    "Returning to the Yelp API, the [documentation](https://www.yelp.com/developers/documentation/v3/business_search) also provides us details regarding the **API limits**. These often include details about the number of requests a user is allowed to make within a specified time limit and the maximum number of results to be returned. In this case, we are told that any request has a **maximum of 50 results per request** and defaults to 20. Furthermore, any search will be limited to a **total of 1000 results**. To retrieve all 1000 of these results, we would have to page through the results piece by piece, retrieving 50 at a time. Processes such as these are often referred to as pagination.\n",
    "\n",
    "Also, be mindful of the **API** ***rate*** **limits**. You can only make **5000 requests per day** and are also can make requests too fast. Start prototyping small before running a loop that could be faulty. You can also use `time.sleep(n)` to add delays. For more details see https://www.yelp.com/developers/documentation/v3/rate_limiting.\n",
    "\n",
    "In this lab, you will define a search and then paginate over the results to retrieve all of the results. You'll then parse these responses as a list of dictionaries (for further exploration) and create a map using Folium to visualize the results geographically.\n",
    "\n",
    "### Requirements\n",
    "\n",
    "#### 1. Make the Initial Request\n",
    "\n",
    "Start by filling in your API key to make the initial request to the business search API. Investigate the structure of the response you get back and start figuring out how you will extract the relevant information.\n",
    "\n",
    "#### 2. Add Pagination\n",
    "\n",
    "Using loops and functions, collect the maximum number of results for your query from the API.\n",
    "\n",
    "#### 3. Perform Exploratory Analysis\n",
    "\n",
    "Interpret visualizations related to the price range, average rating, and number of reviews for all query results.\n",
    "\n",
    "#### 4. Create a Folium Map\n",
    "\n",
    "Using latitude and longitude data, plot the query results on an interactive map."
   ]
  },
  {
   "cell_type": "markdown",
   "metadata": {},
   "source": [
    "## 1. Make the Initial Request\n",
    "\n",
    "### Querying\n",
    "\n",
    "Start by making an initial request to the Yelp API. Your search must include at least 2 parameters: **term** and **location**. For example, you might search for pizza restaurants in NYC. The term and location is up to you but make the request below.\n",
    "\n",
    "Use the `requests` library ([documentation here](https://requests.readthedocs.io/en/master/user/quickstart/#make-a-request)).\n",
    "\n",
    "You'll also need an API key from Yelp. If you haven't done this already, go to the Yelp [Manage App page](https://www.yelp.com/developers/v3/manage_app) and create a new app (after making an account if you haven't already)."
   ]
  },
  {
   "cell_type": "code",
   "execution_count": 1,
   "metadata": {},
   "outputs": [
    {
     "data": {
      "text/plain": [
       "<Response [200]>"
      ]
     },
     "execution_count": 1,
     "metadata": {},
     "output_type": "execute_result"
    }
   ],
   "source": [
    "# Replace None with appropriate code\n",
    "\n",
    "# Import the requests library\n",
    "import requests \n",
    "\n",
    "# Get this from the \"Manage App\" page. Make sure you set them\n",
    "# back to None before pushing this to GitHub, since otherwise\n",
    "# your credentials will be compromised\n",
    "api_key = None\n",
    "# These can be whatever you want! But the solution uses \"pizza\"\n",
    "# and \"New York NY\" if you want to compare your work directly\n",
    "term = \"pizza\"\n",
    "location = \"New York NY\"\n",
    "\n",
    "# Set up params for request\n",
    "url = \"https://api.yelp.com/v3/businesses/search\"\n",
    "headers = {\n",
    "    \"Authorization\": \"Bearer {}\".format(api_key)\n",
    "}\n",
    "url_params = {\n",
    "    \"term\": term.replace(\" \", \"+\"),\n",
    "    \"location\": location.replace(\" \", \"+\")\n",
    "}\n",
    "\n",
    "# Make the request using requests.get, passing in\n",
    "# url, headers=headers, and params=url_params\n",
    "response = requests.get(url, headers =headers, params =url_params)\n",
    "\n",
    "# Confirm we got a 200 response\n",
    "response"
   ]
  },
  {
   "cell_type": "code",
   "execution_count": 3,
   "metadata": {},
   "outputs": [
    {
     "data": {
      "text/plain": [
       "dict_keys(['businesses', 'total', 'region'])"
      ]
     },
     "execution_count": 3,
     "metadata": {},
     "output_type": "execute_result"
    }
   ],
   "source": [
    "# Run this cell without changes\n",
    "\n",
    "# Get the response body in JSON format\n",
    "response_json = response.json()\n",
    "# View the keys\n",
    "response_json.keys()"
   ]
  },
  {
   "cell_type": "markdown",
   "metadata": {},
   "source": [
    "### Extracting Data\n",
    "\n",
    "Now, retrieve the value associated with the `'businesses'` key, and inspect its contents."
   ]
  },
  {
   "cell_type": "code",
   "execution_count": 5,
   "metadata": {},
   "outputs": [
    {
     "data": {
      "text/plain": [
       "{'businesses': [{'id': 'zj8Lq1T8KIC5zwFief15jg',\n",
       "   'alias': 'prince-street-pizza-new-york-2',\n",
       "   'name': 'Prince Street Pizza',\n",
       "   'image_url': 'https://s3-media3.fl.yelpcdn.com/bphoto/ZAukOyv530w4KjOHC5YY1w/o.jpg',\n",
       "   'is_closed': False,\n",
       "   'url': 'https://www.yelp.com/biz/prince-street-pizza-new-york-2?adjust_creative=VFGYCtpMLDXSo9IoX94Nzw&utm_campaign=yelp_api_v3&utm_medium=api_v3_business_search&utm_source=VFGYCtpMLDXSo9IoX94Nzw',\n",
       "   'review_count': 4258,\n",
       "   'categories': [{'alias': 'pizza', 'title': 'Pizza'},\n",
       "    {'alias': 'italian', 'title': 'Italian'}],\n",
       "   'rating': 4.5,\n",
       "   'coordinates': {'latitude': 40.72308755605564,\n",
       "    'longitude': -73.99453001177575},\n",
       "   'transactions': ['delivery', 'pickup'],\n",
       "   'price': '$',\n",
       "   'location': {'address1': '27 Prince St',\n",
       "    'address2': None,\n",
       "    'address3': '',\n",
       "    'city': 'New York',\n",
       "    'zip_code': '10012',\n",
       "    'country': 'US',\n",
       "    'state': 'NY',\n",
       "    'display_address': ['27 Prince St', 'New York, NY 10012']},\n",
       "   'phone': '+12129664100',\n",
       "   'display_phone': '(212) 966-4100',\n",
       "   'distance': 1961.8771417367063},\n",
       "  {'id': 'ysqgdbSrezXgVwER2kQWKA',\n",
       "   'alias': 'julianas-brooklyn-3',\n",
       "   'name': \"Juliana's\",\n",
       "   'image_url': 'https://s3-media2.fl.yelpcdn.com/bphoto/clscwgOF9_Ecq-Rwsq7jyQ/o.jpg',\n",
       "   'is_closed': False,\n",
       "   'url': 'https://www.yelp.com/biz/julianas-brooklyn-3?adjust_creative=VFGYCtpMLDXSo9IoX94Nzw&utm_campaign=yelp_api_v3&utm_medium=api_v3_business_search&utm_source=VFGYCtpMLDXSo9IoX94Nzw',\n",
       "   'review_count': 2413,\n",
       "   'categories': [{'alias': 'pizza', 'title': 'Pizza'}],\n",
       "   'rating': 4.5,\n",
       "   'coordinates': {'latitude': 40.70274718768062,\n",
       "    'longitude': -73.99343490196397},\n",
       "   'transactions': ['delivery'],\n",
       "   'price': '$$',\n",
       "   'location': {'address1': '19 Old Fulton St',\n",
       "    'address2': '',\n",
       "    'address3': '',\n",
       "    'city': 'Brooklyn',\n",
       "    'zip_code': '11201',\n",
       "    'country': 'US',\n",
       "    'state': 'NY',\n",
       "    'display_address': ['19 Old Fulton St', 'Brooklyn, NY 11201']},\n",
       "   'phone': '+17185966700',\n",
       "   'display_phone': '(718) 596-6700',\n",
       "   'distance': 308.56984360837544},\n",
       "  {'id': 'WG639VkTjmK5dzydd1BBJA',\n",
       "   'alias': 'rubirosa-new-york-2',\n",
       "   'name': 'Rubirosa',\n",
       "   'image_url': 'https://s3-media4.fl.yelpcdn.com/bphoto/LuSzR8cpVQRofXOT_bMi1A/o.jpg',\n",
       "   'is_closed': False,\n",
       "   'url': 'https://www.yelp.com/biz/rubirosa-new-york-2?adjust_creative=VFGYCtpMLDXSo9IoX94Nzw&utm_campaign=yelp_api_v3&utm_medium=api_v3_business_search&utm_source=VFGYCtpMLDXSo9IoX94Nzw',\n",
       "   'review_count': 2590,\n",
       "   'categories': [{'alias': 'italian', 'title': 'Italian'},\n",
       "    {'alias': 'pizza', 'title': 'Pizza'}],\n",
       "   'rating': 4.5,\n",
       "   'coordinates': {'latitude': 40.722766, 'longitude': -73.996233},\n",
       "   'transactions': ['delivery', 'pickup'],\n",
       "   'price': '$$',\n",
       "   'location': {'address1': '235 Mulberry St',\n",
       "    'address2': '',\n",
       "    'address3': '',\n",
       "    'city': 'New York',\n",
       "    'zip_code': '10012',\n",
       "    'country': 'US',\n",
       "    'state': 'NY',\n",
       "    'display_address': ['235 Mulberry St', 'New York, NY 10012']},\n",
       "   'phone': '+12129650500',\n",
       "   'display_phone': '(212) 965-0500',\n",
       "   'distance': 1932.9467701334759},\n",
       "  {'id': 'WIhm0W9197f_rRtDziq5qQ',\n",
       "   'alias': 'lombardis-pizza-new-york-4',\n",
       "   'name': \"Lombardi's Pizza\",\n",
       "   'image_url': 'https://s3-media1.fl.yelpcdn.com/bphoto/UZ6V_hobp1KpYDPOHNoCKw/o.jpg',\n",
       "   'is_closed': False,\n",
       "   'url': 'https://www.yelp.com/biz/lombardis-pizza-new-york-4?adjust_creative=VFGYCtpMLDXSo9IoX94Nzw&utm_campaign=yelp_api_v3&utm_medium=api_v3_business_search&utm_source=VFGYCtpMLDXSo9IoX94Nzw',\n",
       "   'review_count': 6283,\n",
       "   'categories': [{'alias': 'pizza', 'title': 'Pizza'}],\n",
       "   'rating': 4.0,\n",
       "   'coordinates': {'latitude': 40.7215934960083,\n",
       "    'longitude': -73.9955956044561},\n",
       "   'transactions': ['delivery', 'pickup'],\n",
       "   'price': '$$',\n",
       "   'location': {'address1': '32 Spring St',\n",
       "    'address2': '',\n",
       "    'address3': '',\n",
       "    'city': 'New York',\n",
       "    'zip_code': '10012',\n",
       "    'country': 'US',\n",
       "    'state': 'NY',\n",
       "    'display_address': ['32 Spring St', 'New York, NY 10012']},\n",
       "   'phone': '+12129417994',\n",
       "   'display_phone': '(212) 941-7994',\n",
       "   'distance': 1798.9959778083735},\n",
       "  {'id': 'Q9F2ocrmYuGt1yn3M7MOBw',\n",
       "   'alias': 'lucali-brooklyn-3',\n",
       "   'name': 'Lucali',\n",
       "   'image_url': 'https://s3-media3.fl.yelpcdn.com/bphoto/Yl_eZ_DW_iaumnU-pfSoaw/o.jpg',\n",
       "   'is_closed': False,\n",
       "   'url': 'https://www.yelp.com/biz/lucali-brooklyn-3?adjust_creative=VFGYCtpMLDXSo9IoX94Nzw&utm_campaign=yelp_api_v3&utm_medium=api_v3_business_search&utm_source=VFGYCtpMLDXSo9IoX94Nzw',\n",
       "   'review_count': 1772,\n",
       "   'categories': [{'alias': 'pizza', 'title': 'Pizza'}],\n",
       "   'rating': 4.0,\n",
       "   'coordinates': {'latitude': 40.6818, 'longitude': -74.00024},\n",
       "   'transactions': ['delivery'],\n",
       "   'price': '$$',\n",
       "   'location': {'address1': '575 Henry St',\n",
       "    'address2': None,\n",
       "    'address3': '',\n",
       "    'city': 'Brooklyn',\n",
       "    'zip_code': '11231',\n",
       "    'country': 'US',\n",
       "    'state': 'NY',\n",
       "    'display_address': ['575 Henry St', 'Brooklyn, NY 11231']},\n",
       "   'phone': '+17188584086',\n",
       "   'display_phone': '(718) 858-4086',\n",
       "   'distance': 2674.849860473569},\n",
       "  {'id': '2ggi1luerd3Mf_C82JvCYg',\n",
       "   'alias': 'grimaldis-pizzeria-brooklyn-4',\n",
       "   'name': \"Grimaldi's Pizzeria\",\n",
       "   'image_url': 'https://s3-media2.fl.yelpcdn.com/bphoto/TNKqW31PTvtSw6-Lbc1mtA/o.jpg',\n",
       "   'is_closed': False,\n",
       "   'url': 'https://www.yelp.com/biz/grimaldis-pizzeria-brooklyn-4?adjust_creative=VFGYCtpMLDXSo9IoX94Nzw&utm_campaign=yelp_api_v3&utm_medium=api_v3_business_search&utm_source=VFGYCtpMLDXSo9IoX94Nzw',\n",
       "   'review_count': 4757,\n",
       "   'categories': [{'alias': 'pizza', 'title': 'Pizza'}],\n",
       "   'rating': 3.5,\n",
       "   'coordinates': {'latitude': 40.702583, 'longitude': -73.9932413},\n",
       "   'transactions': ['pickup', 'delivery'],\n",
       "   'price': '$$',\n",
       "   'location': {'address1': '1 Front St',\n",
       "    'address2': '',\n",
       "    'address3': '',\n",
       "    'city': 'Brooklyn',\n",
       "    'zip_code': '11201',\n",
       "    'country': 'US',\n",
       "    'state': 'NY',\n",
       "    'display_address': ['1 Front St', 'Brooklyn, NY 11201']},\n",
       "   'phone': '+17188584300',\n",
       "   'display_phone': '(718) 858-4300',\n",
       "   'distance': 330.34746206527655},\n",
       "  {'id': 'LF1QAuvpfX7KGQlg2zMg6Q',\n",
       "   'alias': 'johns-of-bleecker-street-new-york-2',\n",
       "   'name': \"John's of Bleecker Street\",\n",
       "   'image_url': 'https://s3-media1.fl.yelpcdn.com/bphoto/r2bmU0uH-6SSxqjRbITDgg/o.jpg',\n",
       "   'is_closed': False,\n",
       "   'url': 'https://www.yelp.com/biz/johns-of-bleecker-street-new-york-2?adjust_creative=VFGYCtpMLDXSo9IoX94Nzw&utm_campaign=yelp_api_v3&utm_medium=api_v3_business_search&utm_source=VFGYCtpMLDXSo9IoX94Nzw',\n",
       "   'review_count': 2236,\n",
       "   'categories': [{'alias': 'pizza', 'title': 'Pizza'}],\n",
       "   'rating': 4.0,\n",
       "   'coordinates': {'latitude': 40.73158, 'longitude': -74.00332},\n",
       "   'transactions': ['delivery', 'pickup'],\n",
       "   'price': '$$',\n",
       "   'location': {'address1': '278 Bleecker St',\n",
       "    'address2': '',\n",
       "    'address3': '',\n",
       "    'city': 'New York',\n",
       "    'zip_code': '10014',\n",
       "    'country': 'US',\n",
       "    'state': 'NY',\n",
       "    'display_address': ['278 Bleecker St', 'New York, NY 10014']},\n",
       "   'phone': '+12122431680',\n",
       "   'display_phone': '(212) 243-1680',\n",
       "   'distance': 3010.899021476809},\n",
       "  {'id': 'MphfKkYFEe0BDQ6hZ0A5fA',\n",
       "   'alias': 'gelso-and-grand-new-york',\n",
       "   'name': 'Gelso & Grand',\n",
       "   'image_url': 'https://s3-media2.fl.yelpcdn.com/bphoto/IGMpmfRY0cazEJwAQ0NbFg/o.jpg',\n",
       "   'is_closed': False,\n",
       "   'url': 'https://www.yelp.com/biz/gelso-and-grand-new-york?adjust_creative=VFGYCtpMLDXSo9IoX94Nzw&utm_campaign=yelp_api_v3&utm_medium=api_v3_business_search&utm_source=VFGYCtpMLDXSo9IoX94Nzw',\n",
       "   'review_count': 1184,\n",
       "   'categories': [{'alias': 'italian', 'title': 'Italian'},\n",
       "    {'alias': 'pastashops', 'title': 'Pasta Shops'},\n",
       "    {'alias': 'pizza', 'title': 'Pizza'}],\n",
       "   'rating': 4.5,\n",
       "   'coordinates': {'latitude': 40.7194089547259,\n",
       "    'longitude': -73.9973777877722},\n",
       "   'transactions': ['delivery', 'pickup'],\n",
       "   'price': '$$',\n",
       "   'location': {'address1': '186 Grand St',\n",
       "    'address2': '',\n",
       "    'address3': '',\n",
       "    'city': 'New York',\n",
       "    'zip_code': '10013',\n",
       "    'country': 'US',\n",
       "    'state': 'NY',\n",
       "    'display_address': ['186 Grand St', 'New York, NY 10013']},\n",
       "   'phone': '+12122261600',\n",
       "   'display_phone': '(212) 226-1600',\n",
       "   'distance': 1574.3490321455226},\n",
       "  {'id': 'uc5qQMzs96rzjK27epDCug',\n",
       "   'alias': 'joes-pizza-new-york-4',\n",
       "   'name': \"Joe's Pizza\",\n",
       "   'image_url': 'https://s3-media4.fl.yelpcdn.com/bphoto/1TvTRG9HFmEGaTSBMcUBhA/o.jpg',\n",
       "   'is_closed': False,\n",
       "   'url': 'https://www.yelp.com/biz/joes-pizza-new-york-4?adjust_creative=VFGYCtpMLDXSo9IoX94Nzw&utm_campaign=yelp_api_v3&utm_medium=api_v3_business_search&utm_source=VFGYCtpMLDXSo9IoX94Nzw',\n",
       "   'review_count': 2772,\n",
       "   'categories': [{'alias': 'pizza', 'title': 'Pizza'}],\n",
       "   'rating': 4.0,\n",
       "   'coordinates': {'latitude': 40.73060076, 'longitude': -74.00215997},\n",
       "   'transactions': ['delivery'],\n",
       "   'price': '$',\n",
       "   'location': {'address1': '7 Carmine St',\n",
       "    'address2': '',\n",
       "    'address3': '',\n",
       "    'city': 'New York',\n",
       "    'zip_code': '10014',\n",
       "    'country': 'US',\n",
       "    'state': 'NY',\n",
       "    'display_address': ['7 Carmine St', 'New York, NY 10014']},\n",
       "   'phone': '+12123661182',\n",
       "   'display_phone': '(212) 366-1182',\n",
       "   'distance': 2874.702513677348},\n",
       "  {'id': 'oJ_XSPZFpvIt6rvheSQl7A',\n",
       "   'alias': 'bleecker-street-pizza-new-york',\n",
       "   'name': 'Bleecker Street Pizza',\n",
       "   'image_url': 'https://s3-media4.fl.yelpcdn.com/bphoto/Kyi2tP43S_a6s-zXD38NUQ/o.jpg',\n",
       "   'is_closed': False,\n",
       "   'url': 'https://www.yelp.com/biz/bleecker-street-pizza-new-york?adjust_creative=VFGYCtpMLDXSo9IoX94Nzw&utm_campaign=yelp_api_v3&utm_medium=api_v3_business_search&utm_source=VFGYCtpMLDXSo9IoX94Nzw',\n",
       "   'review_count': 2563,\n",
       "   'categories': [{'alias': 'pizza', 'title': 'Pizza'},\n",
       "    {'alias': 'italian', 'title': 'Italian'}],\n",
       "   'rating': 4.0,\n",
       "   'coordinates': {'latitude': 40.7320627016512,\n",
       "    'longitude': -74.0036552270137},\n",
       "   'transactions': ['delivery', 'pickup'],\n",
       "   'price': '$',\n",
       "   'location': {'address1': '69 7th Ave S',\n",
       "    'address2': None,\n",
       "    'address3': '',\n",
       "    'city': 'New York',\n",
       "    'zip_code': '10014',\n",
       "    'country': 'US',\n",
       "    'state': 'NY',\n",
       "    'display_address': ['69 7th Ave S', 'New York, NY 10014']},\n",
       "   'phone': '+12129244466',\n",
       "   'display_phone': '(212) 924-4466',\n",
       "   'distance': 3073.5742196084057},\n",
       "  {'id': 'v1DHGRNCH9247WLYoaoA9A',\n",
       "   'alias': 'l-industrie-pizzeria-brooklyn',\n",
       "   'name': \"L'industrie Pizzeria\",\n",
       "   'image_url': 'https://s3-media2.fl.yelpcdn.com/bphoto/_tHRJGBaVtQD4L-hFK9jjw/o.jpg',\n",
       "   'is_closed': False,\n",
       "   'url': 'https://www.yelp.com/biz/l-industrie-pizzeria-brooklyn?adjust_creative=VFGYCtpMLDXSo9IoX94Nzw&utm_campaign=yelp_api_v3&utm_medium=api_v3_business_search&utm_source=VFGYCtpMLDXSo9IoX94Nzw',\n",
       "   'review_count': 672,\n",
       "   'categories': [{'alias': 'pizza', 'title': 'Pizza'}],\n",
       "   'rating': 4.5,\n",
       "   'coordinates': {'latitude': 40.71162, 'longitude': -73.95783},\n",
       "   'transactions': ['delivery'],\n",
       "   'price': '$',\n",
       "   'location': {'address1': '254 S 2nd St',\n",
       "    'address2': '',\n",
       "    'address3': '',\n",
       "    'city': 'Brooklyn',\n",
       "    'zip_code': '11211',\n",
       "    'country': 'US',\n",
       "    'state': 'NY',\n",
       "    'display_address': ['254 S 2nd St', 'Brooklyn, NY 11211']},\n",
       "   'phone': '+17185990002',\n",
       "   'display_phone': '(718) 599-0002',\n",
       "   'distance': 3145.016041338447},\n",
       "  {'id': 'ApZ_j43jjSZQe2AMDdO46w',\n",
       "   'alias': 'grand-street-pizza-new-york',\n",
       "   'name': 'Grand Street Pizza',\n",
       "   'image_url': 'https://s3-media2.fl.yelpcdn.com/bphoto/ypw5OQaw2nOE7p3_FDvT9g/o.jpg',\n",
       "   'is_closed': False,\n",
       "   'url': 'https://www.yelp.com/biz/grand-street-pizza-new-york?adjust_creative=VFGYCtpMLDXSo9IoX94Nzw&utm_campaign=yelp_api_v3&utm_medium=api_v3_business_search&utm_source=VFGYCtpMLDXSo9IoX94Nzw',\n",
       "   'review_count': 11,\n",
       "   'categories': [{'alias': 'pizza', 'title': 'Pizza'}],\n",
       "   'rating': 4.5,\n",
       "   'coordinates': {'latitude': 40.7164, 'longitude': -73.98767},\n",
       "   'transactions': ['delivery', 'pickup'],\n",
       "   'location': {'address1': '384 Grand St',\n",
       "    'address2': '',\n",
       "    'address3': None,\n",
       "    'city': 'New York',\n",
       "    'zip_code': '10002',\n",
       "    'country': 'US',\n",
       "    'state': 'NY',\n",
       "    'display_address': ['384 Grand St', 'New York, NY 10002']},\n",
       "   'phone': '+16469186194',\n",
       "   'display_phone': '(646) 918-6194',\n",
       "   'distance': 1350.7240473548673},\n",
       "  {'id': 'C8j0q4Ma_S5hBGuAI-aaww',\n",
       "   'alias': 'di-fara-pizza-brooklyn',\n",
       "   'name': 'Di Fara Pizza',\n",
       "   'image_url': 'https://s3-media3.fl.yelpcdn.com/bphoto/4dfe9qpe20P-vi3qFjWd4Q/o.jpg',\n",
       "   'is_closed': False,\n",
       "   'url': 'https://www.yelp.com/biz/di-fara-pizza-brooklyn?adjust_creative=VFGYCtpMLDXSo9IoX94Nzw&utm_campaign=yelp_api_v3&utm_medium=api_v3_business_search&utm_source=VFGYCtpMLDXSo9IoX94Nzw',\n",
       "   'review_count': 3732,\n",
       "   'categories': [{'alias': 'pizza', 'title': 'Pizza'}],\n",
       "   'rating': 4.0,\n",
       "   'coordinates': {'latitude': 40.625093, 'longitude': -73.961531},\n",
       "   'transactions': ['delivery', 'pickup'],\n",
       "   'price': '$$',\n",
       "   'location': {'address1': '1424 Ave J',\n",
       "    'address2': '',\n",
       "    'address3': '',\n",
       "    'city': 'Brooklyn',\n",
       "    'zip_code': '11230',\n",
       "    'country': 'US',\n",
       "    'state': 'NY',\n",
       "    'display_address': ['1424 Ave J', 'Brooklyn, NY 11230']},\n",
       "   'phone': '+17182581367',\n",
       "   'display_phone': '(718) 258-1367',\n",
       "   'distance': 9352.269072867253},\n",
       "  {'id': 'pGr5QuQU7Ur5GHLvXbT8bw',\n",
       "   'alias': 'paulie-gees-brooklyn',\n",
       "   'name': \"Paulie Gee's\",\n",
       "   'image_url': 'https://s3-media2.fl.yelpcdn.com/bphoto/1j39J4NABK_RBtO-l90QNg/o.jpg',\n",
       "   'is_closed': False,\n",
       "   'url': 'https://www.yelp.com/biz/paulie-gees-brooklyn?adjust_creative=VFGYCtpMLDXSo9IoX94Nzw&utm_campaign=yelp_api_v3&utm_medium=api_v3_business_search&utm_source=VFGYCtpMLDXSo9IoX94Nzw',\n",
       "   'review_count': 1305,\n",
       "   'categories': [{'alias': 'pizza', 'title': 'Pizza'}],\n",
       "   'rating': 4.5,\n",
       "   'coordinates': {'latitude': 40.729546, 'longitude': -73.958568},\n",
       "   'transactions': ['delivery'],\n",
       "   'price': '$$',\n",
       "   'location': {'address1': '60 Greenpoint Ave',\n",
       "    'address2': '',\n",
       "    'address3': '',\n",
       "    'city': 'Brooklyn',\n",
       "    'zip_code': '11222',\n",
       "    'country': 'US',\n",
       "    'state': 'NY',\n",
       "    'display_address': ['60 Greenpoint Ave', 'Brooklyn, NY 11222']},\n",
       "   'phone': '+13479873747',\n",
       "   'display_phone': '(347) 987-3747',\n",
       "   'distance': 4027.308250680752},\n",
       "  {'id': '0UdC0VYX6aAvLiOcpR4MVQ',\n",
       "   'alias': 'joes-pizza-new-york-7',\n",
       "   'name': \"Joe's Pizza\",\n",
       "   'image_url': 'https://s3-media3.fl.yelpcdn.com/bphoto/BTCcvlqxlp2MOeK_rHa8lQ/o.jpg',\n",
       "   'is_closed': False,\n",
       "   'url': 'https://www.yelp.com/biz/joes-pizza-new-york-7?adjust_creative=VFGYCtpMLDXSo9IoX94Nzw&utm_campaign=yelp_api_v3&utm_medium=api_v3_business_search&utm_source=VFGYCtpMLDXSo9IoX94Nzw',\n",
       "   'review_count': 975,\n",
       "   'categories': [{'alias': 'pizza', 'title': 'Pizza'}],\n",
       "   'rating': 4.0,\n",
       "   'coordinates': {'latitude': 40.73331, 'longitude': -73.98763},\n",
       "   'transactions': ['delivery', 'pickup'],\n",
       "   'price': '$',\n",
       "   'location': {'address1': '150 E 14th St',\n",
       "    'address2': '',\n",
       "    'address3': '',\n",
       "    'city': 'New York',\n",
       "    'zip_code': '10003',\n",
       "    'country': 'US',\n",
       "    'state': 'NY',\n",
       "    'display_address': ['150 E 14th St', 'New York, NY 10003']},\n",
       "   'phone': '+12123889474',\n",
       "   'display_phone': '(212) 388-9474',\n",
       "   'distance': 3140.2631090277323},\n",
       "  {'id': 'i_rg-OLXQbpRUN7O3MeCeA',\n",
       "   'alias': 'piz-zetta-brooklyn-2',\n",
       "   'name': 'Piz-zetta',\n",
       "   'image_url': 'https://s3-media2.fl.yelpcdn.com/bphoto/9L4viDwAGx3obgYLnXMA6g/o.jpg',\n",
       "   'is_closed': False,\n",
       "   'url': 'https://www.yelp.com/biz/piz-zetta-brooklyn-2?adjust_creative=VFGYCtpMLDXSo9IoX94Nzw&utm_campaign=yelp_api_v3&utm_medium=api_v3_business_search&utm_source=VFGYCtpMLDXSo9IoX94Nzw',\n",
       "   'review_count': 310,\n",
       "   'categories': [{'alias': 'italian', 'title': 'Italian'},\n",
       "    {'alias': 'pizza', 'title': 'Pizza'}],\n",
       "   'rating': 4.5,\n",
       "   'coordinates': {'latitude': 40.69116658201196,\n",
       "    'longitude': -73.99065911521895},\n",
       "   'transactions': ['delivery', 'pickup'],\n",
       "   'price': '$',\n",
       "   'location': {'address1': '90 Livingston St',\n",
       "    'address2': '',\n",
       "    'address3': '',\n",
       "    'city': 'Brooklyn',\n",
       "    'zip_code': '11201',\n",
       "    'country': 'US',\n",
       "    'state': 'NY',\n",
       "    'display_address': ['90 Livingston St', 'Brooklyn, NY 11201']},\n",
       "   'phone': '+17184227878',\n",
       "   'display_phone': '(718) 422-7878',\n",
       "   'distance': 1616.95941062503},\n",
       "  {'id': 'hGksyTiHBBdrhbiVjXzWVw',\n",
       "   'alias': 'scarrs-pizza-new-york',\n",
       "   'name': \"Scarr's Pizza\",\n",
       "   'image_url': 'https://s3-media3.fl.yelpcdn.com/bphoto/xonxGJK91P_Ow3iY7olsxA/o.jpg',\n",
       "   'is_closed': False,\n",
       "   'url': 'https://www.yelp.com/biz/scarrs-pizza-new-york?adjust_creative=VFGYCtpMLDXSo9IoX94Nzw&utm_campaign=yelp_api_v3&utm_medium=api_v3_business_search&utm_source=VFGYCtpMLDXSo9IoX94Nzw',\n",
       "   'review_count': 554,\n",
       "   'categories': [{'alias': 'pizza', 'title': 'Pizza'}],\n",
       "   'rating': 4.0,\n",
       "   'coordinates': {'latitude': 40.71534, 'longitude': -73.9914},\n",
       "   'transactions': ['delivery', 'pickup'],\n",
       "   'price': '$',\n",
       "   'location': {'address1': '22 Orchard St',\n",
       "    'address2': '',\n",
       "    'address3': '',\n",
       "    'city': 'New York',\n",
       "    'zip_code': '10002',\n",
       "    'country': 'US',\n",
       "    'state': 'NY',\n",
       "    'display_address': ['22 Orchard St', 'New York, NY 10002']},\n",
       "   'phone': '+12123343481',\n",
       "   'display_phone': '(212) 334-3481',\n",
       "   'distance': 1125.7843300426755},\n",
       "  {'id': 'TWH4MjLtN1fKlF-7n6YXHg',\n",
       "   'alias': 'lil-frankies-new-york',\n",
       "   'name': \"Lil Frankie's\",\n",
       "   'image_url': 'https://s3-media3.fl.yelpcdn.com/bphoto/t0OsEVlzDWgM_NMGVHmPiA/o.jpg',\n",
       "   'is_closed': False,\n",
       "   'url': 'https://www.yelp.com/biz/lil-frankies-new-york?adjust_creative=VFGYCtpMLDXSo9IoX94Nzw&utm_campaign=yelp_api_v3&utm_medium=api_v3_business_search&utm_source=VFGYCtpMLDXSo9IoX94Nzw',\n",
       "   'review_count': 1306,\n",
       "   'categories': [{'alias': 'pizza', 'title': 'Pizza'},\n",
       "    {'alias': 'italian', 'title': 'Italian'}],\n",
       "   'rating': 4.0,\n",
       "   'coordinates': {'latitude': 40.723625, 'longitude': -73.988555},\n",
       "   'transactions': ['delivery', 'pickup'],\n",
       "   'price': '$$',\n",
       "   'location': {'address1': '19 1st Ave',\n",
       "    'address2': '',\n",
       "    'address3': '',\n",
       "    'city': 'New York',\n",
       "    'zip_code': '10003',\n",
       "    'country': 'US',\n",
       "    'state': 'NY',\n",
       "    'display_address': ['19 1st Ave', 'New York, NY 10003']},\n",
       "   'phone': '+12124204900',\n",
       "   'display_phone': '(212) 420-4900',\n",
       "   'distance': 2079.0350425992006},\n",
       "  {'id': 'xxgcU_oFIox_pAmroo9WwA',\n",
       "   'alias': 'front-street-pizza-brooklyn',\n",
       "   'name': 'Front Street Pizza',\n",
       "   'image_url': 'https://s3-media1.fl.yelpcdn.com/bphoto/ybrfmg0lGdBoJRM7X1_s3A/o.jpg',\n",
       "   'is_closed': False,\n",
       "   'url': 'https://www.yelp.com/biz/front-street-pizza-brooklyn?adjust_creative=VFGYCtpMLDXSo9IoX94Nzw&utm_campaign=yelp_api_v3&utm_medium=api_v3_business_search&utm_source=VFGYCtpMLDXSo9IoX94Nzw',\n",
       "   'review_count': 408,\n",
       "   'categories': [{'alias': 'pizza', 'title': 'Pizza'},\n",
       "    {'alias': 'bars', 'title': 'Bars'},\n",
       "    {'alias': 'italian', 'title': 'Italian'}],\n",
       "   'rating': 4.0,\n",
       "   'coordinates': {'latitude': 40.70244, 'longitude': -73.98943},\n",
       "   'transactions': ['delivery', 'pickup'],\n",
       "   'price': '$',\n",
       "   'location': {'address1': '80 Front St',\n",
       "    'address2': '',\n",
       "    'address3': '',\n",
       "    'city': 'Brooklyn',\n",
       "    'zip_code': '11201',\n",
       "    'country': 'US',\n",
       "    'state': 'NY',\n",
       "    'display_address': ['80 Front St', 'Brooklyn, NY 11201']},\n",
       "   'phone': '+17188753700',\n",
       "   'display_phone': '(718) 875-3700',\n",
       "   'distance': 550.4392264831844},\n",
       "  {'id': 'FhXjAc6nKLf414KxYujUHw',\n",
       "   'alias': 'robertas-brooklyn-2',\n",
       "   'name': \"Roberta's\",\n",
       "   'image_url': 'https://s3-media4.fl.yelpcdn.com/bphoto/8fY9fA5TtCF0ebdTNph9mQ/o.jpg',\n",
       "   'is_closed': False,\n",
       "   'url': 'https://www.yelp.com/biz/robertas-brooklyn-2?adjust_creative=VFGYCtpMLDXSo9IoX94Nzw&utm_campaign=yelp_api_v3&utm_medium=api_v3_business_search&utm_source=VFGYCtpMLDXSo9IoX94Nzw',\n",
       "   'review_count': 3072,\n",
       "   'categories': [{'alias': 'pizza', 'title': 'Pizza'},\n",
       "    {'alias': 'italian', 'title': 'Italian'}],\n",
       "   'rating': 4.0,\n",
       "   'coordinates': {'latitude': 40.70493, 'longitude': -73.93399},\n",
       "   'transactions': ['pickup', 'delivery'],\n",
       "   'price': '$$',\n",
       "   'location': {'address1': '261 Moore St',\n",
       "    'address2': '',\n",
       "    'address3': '',\n",
       "    'city': 'Brooklyn',\n",
       "    'zip_code': '11206',\n",
       "    'country': 'US',\n",
       "    'state': 'NY',\n",
       "    'display_address': ['261 Moore St', 'Brooklyn, NY 11206']},\n",
       "   'phone': '+17184171118',\n",
       "   'display_phone': '(718) 417-1118',\n",
       "   'distance': 5083.5233118395545}],\n",
       " 'total': 11900,\n",
       " 'region': {'center': {'longitude': -73.99429321289062,\n",
       "   'latitude': 40.70544486444615}}}"
      ]
     },
     "execution_count": 5,
     "metadata": {},
     "output_type": "execute_result"
    }
   ],
   "source": [
    "response_json"
   ]
  },
  {
   "cell_type": "code",
   "execution_count": 7,
   "metadata": {},
   "outputs": [
    {
     "data": {
      "text/plain": [
       "[{'id': 'zj8Lq1T8KIC5zwFief15jg',\n",
       "  'alias': 'prince-street-pizza-new-york-2',\n",
       "  'name': 'Prince Street Pizza',\n",
       "  'image_url': 'https://s3-media3.fl.yelpcdn.com/bphoto/ZAukOyv530w4KjOHC5YY1w/o.jpg',\n",
       "  'is_closed': False,\n",
       "  'url': 'https://www.yelp.com/biz/prince-street-pizza-new-york-2?adjust_creative=VFGYCtpMLDXSo9IoX94Nzw&utm_campaign=yelp_api_v3&utm_medium=api_v3_business_search&utm_source=VFGYCtpMLDXSo9IoX94Nzw',\n",
       "  'review_count': 4258,\n",
       "  'categories': [{'alias': 'pizza', 'title': 'Pizza'},\n",
       "   {'alias': 'italian', 'title': 'Italian'}],\n",
       "  'rating': 4.5,\n",
       "  'coordinates': {'latitude': 40.72308755605564,\n",
       "   'longitude': -73.99453001177575},\n",
       "  'transactions': ['delivery', 'pickup'],\n",
       "  'price': '$',\n",
       "  'location': {'address1': '27 Prince St',\n",
       "   'address2': None,\n",
       "   'address3': '',\n",
       "   'city': 'New York',\n",
       "   'zip_code': '10012',\n",
       "   'country': 'US',\n",
       "   'state': 'NY',\n",
       "   'display_address': ['27 Prince St', 'New York, NY 10012']},\n",
       "  'phone': '+12129664100',\n",
       "  'display_phone': '(212) 966-4100',\n",
       "  'distance': 1961.8771417367063},\n",
       " {'id': 'ysqgdbSrezXgVwER2kQWKA',\n",
       "  'alias': 'julianas-brooklyn-3',\n",
       "  'name': \"Juliana's\",\n",
       "  'image_url': 'https://s3-media2.fl.yelpcdn.com/bphoto/clscwgOF9_Ecq-Rwsq7jyQ/o.jpg',\n",
       "  'is_closed': False,\n",
       "  'url': 'https://www.yelp.com/biz/julianas-brooklyn-3?adjust_creative=VFGYCtpMLDXSo9IoX94Nzw&utm_campaign=yelp_api_v3&utm_medium=api_v3_business_search&utm_source=VFGYCtpMLDXSo9IoX94Nzw',\n",
       "  'review_count': 2413,\n",
       "  'categories': [{'alias': 'pizza', 'title': 'Pizza'}],\n",
       "  'rating': 4.5,\n",
       "  'coordinates': {'latitude': 40.70274718768062,\n",
       "   'longitude': -73.99343490196397},\n",
       "  'transactions': ['delivery'],\n",
       "  'price': '$$',\n",
       "  'location': {'address1': '19 Old Fulton St',\n",
       "   'address2': '',\n",
       "   'address3': '',\n",
       "   'city': 'Brooklyn',\n",
       "   'zip_code': '11201',\n",
       "   'country': 'US',\n",
       "   'state': 'NY',\n",
       "   'display_address': ['19 Old Fulton St', 'Brooklyn, NY 11201']},\n",
       "  'phone': '+17185966700',\n",
       "  'display_phone': '(718) 596-6700',\n",
       "  'distance': 308.56984360837544}]"
      ]
     },
     "execution_count": 7,
     "metadata": {},
     "output_type": "execute_result"
    }
   ],
   "source": [
    "# Replace None with appropriate code\n",
    "\n",
    "# Retrieve the value from response_json\n",
    "businesses = response_json['businesses']\n",
    "\n",
    "# View the first 2 records\n",
    "businesses[:2]"
   ]
  },
  {
   "cell_type": "markdown",
   "metadata": {},
   "source": [
    "### Preparing Data\n",
    "\n",
    "Write a function `prepare_data` that takes in a list of dictionaries like `businesses` and returns a copy that has been prepared for analysis:\n",
    "\n",
    "1. The `coordinates` key-value pair has been converted into two separate key-value pairs, `latitude` and `longitude`\n",
    "2. All other key-value pairs except for `name`, `review_count`, `rating`, and `price` have been dropped\n",
    "3. All dictionaries missing one of the relevant keys or containing null values have been dropped\n",
    "\n",
    "In other words, the final keys for each dictionary should be `name`, `review_count`, `rating`, `price`, `latitude`, and `longitude`.\n",
    "\n",
    "Complete the function in the cell below:"
   ]
  },
  {
   "cell_type": "code",
   "execution_count": 12,
   "metadata": {},
   "outputs": [
    {
     "data": {
      "text/plain": [
       "[{'name': 'Prince Street Pizza',\n",
       "  'review_count': 4258,\n",
       "  'rating': 4.5,\n",
       "  'price': '$',\n",
       "  'latitude': 40.72308755605564,\n",
       "  'longitude': -73.99453001177575},\n",
       " {'name': \"Juliana's\",\n",
       "  'review_count': 2413,\n",
       "  'rating': 4.5,\n",
       "  'price': '$$',\n",
       "  'latitude': 40.70274718768062,\n",
       "  'longitude': -73.99343490196397},\n",
       " {'name': 'Rubirosa',\n",
       "  'review_count': 2590,\n",
       "  'rating': 4.5,\n",
       "  'price': '$$',\n",
       "  'latitude': 40.722766,\n",
       "  'longitude': -73.996233},\n",
       " {'name': \"Lombardi's Pizza\",\n",
       "  'review_count': 6283,\n",
       "  'rating': 4.0,\n",
       "  'price': '$$',\n",
       "  'latitude': 40.7215934960083,\n",
       "  'longitude': -73.9955956044561},\n",
       " {'name': 'Lucali',\n",
       "  'review_count': 1772,\n",
       "  'rating': 4.0,\n",
       "  'price': '$$',\n",
       "  'latitude': 40.6818,\n",
       "  'longitude': -74.00024},\n",
       " {'name': \"Grimaldi's Pizzeria\",\n",
       "  'review_count': 4757,\n",
       "  'rating': 3.5,\n",
       "  'price': '$$',\n",
       "  'latitude': 40.702583,\n",
       "  'longitude': -73.9932413},\n",
       " {'name': \"John's of Bleecker Street\",\n",
       "  'review_count': 2236,\n",
       "  'rating': 4.0,\n",
       "  'price': '$$',\n",
       "  'latitude': 40.73158,\n",
       "  'longitude': -74.00332},\n",
       " {'name': 'Gelso & Grand',\n",
       "  'review_count': 1184,\n",
       "  'rating': 4.5,\n",
       "  'price': '$$',\n",
       "  'latitude': 40.7194089547259,\n",
       "  'longitude': -73.9973777877722},\n",
       " {'name': \"Joe's Pizza\",\n",
       "  'review_count': 2772,\n",
       "  'rating': 4.0,\n",
       "  'price': '$',\n",
       "  'latitude': 40.73060076,\n",
       "  'longitude': -74.00215997},\n",
       " {'name': 'Bleecker Street Pizza',\n",
       "  'review_count': 2563,\n",
       "  'rating': 4.0,\n",
       "  'price': '$',\n",
       "  'latitude': 40.7320627016512,\n",
       "  'longitude': -74.0036552270137},\n",
       " {'name': \"L'industrie Pizzeria\",\n",
       "  'review_count': 672,\n",
       "  'rating': 4.5,\n",
       "  'price': '$',\n",
       "  'latitude': 40.71162,\n",
       "  'longitude': -73.95783},\n",
       " {'name': 'Di Fara Pizza',\n",
       "  'review_count': 3732,\n",
       "  'rating': 4.0,\n",
       "  'price': '$$',\n",
       "  'latitude': 40.625093,\n",
       "  'longitude': -73.961531},\n",
       " {'name': \"Paulie Gee's\",\n",
       "  'review_count': 1305,\n",
       "  'rating': 4.5,\n",
       "  'price': '$$',\n",
       "  'latitude': 40.729546,\n",
       "  'longitude': -73.958568},\n",
       " {'name': \"Joe's Pizza\",\n",
       "  'review_count': 975,\n",
       "  'rating': 4.0,\n",
       "  'price': '$',\n",
       "  'latitude': 40.73331,\n",
       "  'longitude': -73.98763},\n",
       " {'name': 'Piz-zetta',\n",
       "  'review_count': 310,\n",
       "  'rating': 4.5,\n",
       "  'price': '$',\n",
       "  'latitude': 40.69116658201196,\n",
       "  'longitude': -73.99065911521895},\n",
       " {'name': \"Scarr's Pizza\",\n",
       "  'review_count': 554,\n",
       "  'rating': 4.0,\n",
       "  'price': '$',\n",
       "  'latitude': 40.71534,\n",
       "  'longitude': -73.9914},\n",
       " {'name': \"Lil Frankie's\",\n",
       "  'review_count': 1306,\n",
       "  'rating': 4.0,\n",
       "  'price': '$$',\n",
       "  'latitude': 40.723625,\n",
       "  'longitude': -73.988555},\n",
       " {'name': 'Front Street Pizza',\n",
       "  'review_count': 408,\n",
       "  'rating': 4.0,\n",
       "  'price': '$',\n",
       "  'latitude': 40.70244,\n",
       "  'longitude': -73.98943},\n",
       " {'name': \"Roberta's\",\n",
       "  'review_count': 3072,\n",
       "  'rating': 4.0,\n",
       "  'price': '$$',\n",
       "  'latitude': 40.70493,\n",
       "  'longitude': -73.93399}]"
      ]
     },
     "execution_count": 12,
     "metadata": {},
     "output_type": "execute_result"
    }
   ],
   "source": [
    "# Replace None with appropriate code\n",
    "\n",
    "def prepare_data(data_list):\n",
    "    \"\"\"\n",
    "    This function takes in a list of dictionaries and prepares it\n",
    "    for analysis\n",
    "    \"\"\"\n",
    "    \n",
    "    # Make a new list to hold results\n",
    "    results = []\n",
    "    \n",
    "    for business_data in data_list:\n",
    "    \n",
    "        # Make a new dictionary to hold prepared data for this business\n",
    "        prepared_data = {}\n",
    "        \n",
    "        # Extract name, review_count, rating, and price key-value pairs\n",
    "        # from business_data and add to prepared_data\n",
    "        # If a key is not present in business_data, add it to prepared_data\n",
    "        # with an associated value of None\n",
    "        for key in (\"name\", \"review_count\", \"rating\", \"price\"):\n",
    "            prepared_data[key] = business_data.get(key, None)\n",
    "    \n",
    "        # Parse and add latitude and longitude columns\n",
    "        coordinates = business_data[\"coordinates\"]\n",
    "        prepared_data[\"latitude\"] = coordinates[\"latitude\"]\n",
    "        prepared_data[\"longitude\"] = coordinates[\"longitude\"]\n",
    "        \n",
    "        # Add to list if all values are present\n",
    "        if all(prepared_data.values()):\n",
    "            results.append(prepared_data)\n",
    "    \n",
    "    return results\n",
    "    \n",
    "# Test out function\n",
    "prepared_businesses = prepare_data(businesses)\n",
    "prepared_businesses[:35]"
   ]
  },
  {
   "cell_type": "markdown",
   "metadata": {},
   "source": [
    "Check that your function created the correct keys:"
   ]
  },
  {
   "cell_type": "code",
   "execution_count": 13,
   "metadata": {},
   "outputs": [],
   "source": [
    "# Run this cell without changes\n",
    "\n",
    "assert sorted(list(prepared_businesses[0].keys())) == ['latitude', 'longitude', 'name', 'price', 'rating', 'review_count']"
   ]
  },
  {
   "cell_type": "markdown",
   "metadata": {},
   "source": [
    "The following code will differ depending on your query, but we expect there to be 20 businesses in the original list, and potentially fewer in the prepared list (if any of them were missing data):"
   ]
  },
  {
   "cell_type": "code",
   "execution_count": 14,
   "metadata": {},
   "outputs": [
    {
     "name": "stdout",
     "output_type": "stream",
     "text": [
      "Original: 20\n",
      "Prepared: 19\n"
     ]
    }
   ],
   "source": [
    "# Run this cell without changes\n",
    "print(\"Original:\", len(businesses))\n",
    "print(\"Prepared:\", len(prepared_businesses))"
   ]
  },
  {
   "cell_type": "markdown",
   "metadata": {},
   "source": [
    "Great! We will reuse this function once we have retrieved the full dataset."
   ]
  },
  {
   "cell_type": "markdown",
   "metadata": {},
   "source": [
    "## 2. Add Pagination\n",
    "\n",
    "Now that you are able to extract information from one page of the response, let's figure out how to request as many pages as possible.\n",
    "\n",
    "### Determining the Total\n",
    "\n",
    "Depending on the number of total results for your query, you will either retrieve all of the results, or just the first 1000 (if there are more than 1000 total).\n",
    "\n",
    "We can find the total number of results using the `\"total\"` key:"
   ]
  },
  {
   "cell_type": "code",
   "execution_count": 18,
   "metadata": {},
   "outputs": [
    {
     "data": {
      "text/plain": [
       "dict_keys(['businesses', 'total', 'region'])"
      ]
     },
     "execution_count": 18,
     "metadata": {},
     "output_type": "execute_result"
    }
   ],
   "source": [
    "response_json.keys()"
   ]
  },
  {
   "cell_type": "code",
   "execution_count": 19,
   "metadata": {},
   "outputs": [
    {
     "data": {
      "text/plain": [
       "11900"
      ]
     },
     "execution_count": 19,
     "metadata": {},
     "output_type": "execute_result"
    }
   ],
   "source": [
    "# Run this cell without changes\n",
    "response_json[\"total\"]"
   ]
  },
  {
   "cell_type": "markdown",
   "metadata": {},
   "source": [
    "(This is specific to the implementation of the Yelp API. Some APIs will just tell you that there are more pages, or will tell you the number of pages total, rather than the total number of results. If you're not sure, always check the documentation.)\n",
    "\n",
    "In the cell below, assign the variable `total` to either the value shown above (if it is less than 1000), or 1000."
   ]
  },
  {
   "cell_type": "code",
   "execution_count": 20,
   "metadata": {},
   "outputs": [],
   "source": [
    "# Replace None with appropriate code\n",
    "total = 1000"
   ]
  },
  {
   "cell_type": "markdown",
   "metadata": {},
   "source": [
    "### Calculating the Offsets\n",
    "\n",
    "The documentation states in the parameters section:\n",
    "\n",
    "> **Name**: `limit`, **Type:** int, **Description:** Optional. Number of business results to return. By default, it will return 20. Maximum is 50.\n",
    "\n",
    "> **Name**: `offset`, **Type:** int, **Description:** Optional. Offset the list of returned business results by this amount.\n",
    "\n",
    "So, to get the most results with the fewest API calls we want to set a limit of 50 every time. If, say, we wanted to get 210 total results, that would mean:\n",
    "\n",
    "1. Offset of `0` (first 50 records)\n",
    "2. Offset of `50` (second 50 records)\n",
    "3. Offset of `100` (third 50 records)\n",
    "4. Offset of `150` (fourth 50 records)\n",
    "5. Offset of `200` (final 10 records)\n",
    "\n",
    "In the cell below, create a function `get_offsets` that takes in a total and returns a list of offsets for that total. You can assume that there is a limit of 50 every time.\n",
    "\n",
    "*Hint: you can use `range` ([documentation here](https://docs.python.org/3.3/library/stdtypes.html?highlight=range#range)) to do this in one line of code. Just make the returned result is a list.*"
   ]
  },
  {
   "cell_type": "code",
   "execution_count": 26,
   "metadata": {},
   "outputs": [],
   "source": [
    "# Replace None with appropriate code\n",
    "def get_offsets(total):\n",
    "    \"\"\"\n",
    "    Get a list of offsets needed to get all pages\n",
    "    of data up until the total\n",
    "    \"\"\"\n",
    "    offsets = [x for x in range(0,total,50)]\n",
    "    return offsets"
   ]
  },
  {
   "cell_type": "markdown",
   "metadata": {},
   "source": [
    "Check that your function works below:"
   ]
  },
  {
   "cell_type": "code",
   "execution_count": 27,
   "metadata": {},
   "outputs": [],
   "source": [
    "# Run this cell without changes\n",
    "\n",
    "assert get_offsets(200) == [0, 50, 100, 150]\n",
    "assert get_offsets(210) == [0, 50, 100, 150, 200]"
   ]
  },
  {
   "cell_type": "markdown",
   "metadata": {},
   "source": [
    "### Putting It All Together\n",
    "\n",
    "Recall that the following variable has already been declared for you:"
   ]
  },
  {
   "cell_type": "code",
   "execution_count": 28,
   "metadata": {},
   "outputs": [
    {
     "data": {
      "text/plain": [
       "{'term': 'pizza', 'location': 'New+York+NY'}"
      ]
     },
     "execution_count": 28,
     "metadata": {},
     "output_type": "execute_result"
    }
   ],
   "source": [
    "# Run this cell without changes\n",
    "url_params"
   ]
  },
  {
   "cell_type": "markdown",
   "metadata": {},
   "source": [
    "We'll go ahead and also specify that the limit should be 50 every time:"
   ]
  },
  {
   "cell_type": "code",
   "execution_count": 29,
   "metadata": {},
   "outputs": [],
   "source": [
    "# Run this cell without changes\n",
    "url_params[\"limit\"] = 50"
   ]
  },
  {
   "cell_type": "markdown",
   "metadata": {},
   "source": [
    "In order to modify the offset, you'll need to add it to `url_params` with the key `\"offset\"` and whatever value is needed.\n",
    "\n",
    "In the cell below, write code that:\n",
    "\n",
    "* Creates an empty list for the full prepared dataset\n",
    "* Loops over all of the offsets from `get_offsets` and makes an API call each time with the specified offset\n",
    "* Calls `prepare_data` to get a cleaned version of the result of each API call\n",
    "* Extends the full prepared dataset list with each query's prepared dataset"
   ]
  },
  {
   "cell_type": "code",
   "execution_count": 30,
   "metadata": {},
   "outputs": [
    {
     "data": {
      "text/plain": [
       "406"
      ]
     },
     "execution_count": 30,
     "metadata": {},
     "output_type": "execute_result"
    }
   ],
   "source": [
    "# Replace None with appropriate code\n",
    "\n",
    "# Create an empty list for the full prepared dataset\n",
    "full_dataset = []\n",
    "\n",
    "for offset in get_offsets(total):\n",
    "    # Add or update the \"offset\" key-value pair in url_params\n",
    "    url_params['offset'] = offset\n",
    "    \n",
    "    # Make the query and get the response\n",
    "    response = requests.get(url, headers=headers, params=url_params)\n",
    "    \n",
    "    # Get the response body in JSON format\n",
    "    response_json = response.json()\n",
    "    \n",
    "    # Get the list of businesses from the response_json\n",
    "    businesses = response_json['businesses']\n",
    "    \n",
    "    # Call the prepare_data function to get a list of processed data\n",
    "    prepared_businesses = prepare_data(businesses)\n",
    "    \n",
    "    # Extend full_dataset with this list (don't append, or you'll get\n",
    "    # a list of lists instead of a flat list)\n",
    "    full_dataset.extend(prepared_businesses)\n",
    "\n",
    "# Check the length of the full dataset. It will be up to `total`,\n",
    "# potentially less if there were missing values\n",
    "len(full_dataset)"
   ]
  },
  {
   "cell_type": "markdown",
   "metadata": {},
   "source": [
    "This code may take up to a few minutes to run.\n",
    "\n",
    "If you get an error trying to get the response body in JSON format, try adding `time.sleep(1)` right after the `requests.get` line, so your code will sleep for 1 second between each API call."
   ]
  },
  {
   "cell_type": "markdown",
   "metadata": {},
   "source": [
    "## 3. Perform Exploratory Analysis\n",
    "\n",
    "Take the businesses from the previous question and do an initial exploratory analysis. We have provided some plots for you to interpret:"
   ]
  },
  {
   "cell_type": "code",
   "execution_count": 31,
   "metadata": {},
   "outputs": [
    {
     "data": {
      "image/png": "[encoded data removed]",
      "text/plain": [
       "<Figure size 1152x360 with 3 Axes>"
      ]
     },
     "metadata": {
      "needs_background": "light"
     },
     "output_type": "display_data"
    }
   ],
   "source": [
    "# Run this cell without changes\n",
    "from collections import Counter\n",
    "import matplotlib.pyplot as plt\n",
    "%matplotlib inline\n",
    "\n",
    "fig, (ax1, ax2, ax3) = plt.subplots(ncols=3, figsize=(16, 5))\n",
    "\n",
    "# Plot distribution of number of reviews\n",
    "all_review_counts = [x[\"review_count\"] for x in full_dataset]\n",
    "ax1.hist(all_review_counts)\n",
    "ax1.set_title(\"Review Count Distribution\")\n",
    "ax1.set_xlabel(\"Number of Reviews\")\n",
    "ax1.set_ylabel(\"Number of Businesses\")\n",
    "\n",
    "# Plot rating distribution\n",
    "all_ratings = [x[\"rating\"] for x in full_dataset]\n",
    "rating_counter = Counter(all_ratings)\n",
    "rating_keys = sorted(rating_counter.keys())\n",
    "ax2.bar(rating_keys, [rating_counter[key] for key in rating_keys])\n",
    "ax2.set_title(\"Rating Distribution\")\n",
    "ax2.set_xlabel(\"Rating\")\n",
    "ax2.set_ylabel(\"Number of Businesses\")\n",
    "\n",
    "# Plot price distribution\n",
    "all_prices = [x[\"price\"].replace(\"$\", r\"\\$\") for x in full_dataset]\n",
    "price_counter = Counter(all_prices)\n",
    "price_keys = sorted(price_counter.keys())\n",
    "ax3.bar(price_keys, [price_counter[key] for key in price_keys])\n",
    "ax3.set_title(\"Price Distribution\")\n",
    "ax3.set_xlabel(\"Price Category\")\n",
    "ax3.set_ylabel(\"Number of Businesses\");"
   ]
  },
  {
   "cell_type": "markdown",
   "metadata": {},
   "source": [
    "Describe the distributions displayed above and interpret them in the context of your query. (Your answer may differ from the solution branch depending on your query.)"
   ]
  },
  {
   "cell_type": "code",
   "execution_count": null,
   "metadata": {},
   "outputs": [],
   "source": [
    "# Replace None with appropriate text\n",
    "# \"\"\"\n",
    "# None\n",
    "# \"\"\""
   ]
  },
  {
   "cell_type": "markdown",
   "metadata": {},
   "source": [
    "In the cell below, we also plot the rating distributions by price. In this setup, a price of one dollar sign is \"lower price\" and everything else is \"higher price\"."
   ]
  },
  {
   "cell_type": "code",
   "execution_count": 32,
   "metadata": {},
   "outputs": [
    {
     "data": {
      "image/png": "[encoded data removed]",
      "text/plain": [
       "<Figure size 432x288 with 1 Axes>"
      ]
     },
     "metadata": {
      "needs_background": "light"
     },
     "output_type": "display_data"
    }
   ],
   "source": [
    "# Run this cell without changes\n",
    "\n",
    "higher_price = []\n",
    "lower_price = []\n",
    "for row in full_dataset:\n",
    "    if row[\"price\"] == \"$\":\n",
    "        lower_price.append(row[\"rating\"])\n",
    "    else:\n",
    "        higher_price.append(row[\"rating\"])\n",
    "        \n",
    "fig, ax = plt.subplots()\n",
    "\n",
    "ax.hist([higher_price, lower_price], label=[\"higher price\", \"lower price\"], density=True)\n",
    "\n",
    "ax.legend();"
   ]
  },
  {
   "cell_type": "markdown",
   "metadata": {},
   "source": [
    "Is a higher price associated with a higher rating? (No need for any additional math/statistics, just interpret what you see in the plot.)"
   ]
  },
  {
   "cell_type": "code",
   "execution_count": 33,
   "metadata": {},
   "outputs": [],
   "source": [
    "# Replace None with appropriate text\n",
    "# \"\"\"\n",
    "# None\n",
    "# \"\"\""
   ]
  },
  {
   "cell_type": "markdown",
   "metadata": {},
   "source": [
    "Finally, let's look at ratings vs. review counts:"
   ]
  },
  {
   "cell_type": "code",
   "execution_count": 34,
   "metadata": {},
   "outputs": [
    {
     "data": {
      "image/png": "[encoded data removed]",
      "text/plain": [
       "<Figure size 1152x360 with 1 Axes>"
      ]
     },
     "metadata": {
      "needs_background": "light"
     },
     "output_type": "display_data"
    }
   ],
   "source": [
    "# Run this cell without changes\n",
    "fig, ax = plt.subplots(figsize=(16,5))\n",
    "\n",
    "ax.scatter(all_review_counts, all_ratings, alpha=0.2)\n",
    "ax.set_xlabel(\"Number of Reviews\")\n",
    "ax.set_ylabel(\"Rating\")\n",
    "# \"zoom in\" to a subset of review counts\n",
    "ax.set_xlim(left=0, right=1000);"
   ]
  },
  {
   "cell_type": "markdown",
   "metadata": {},
   "source": [
    "Is a higher number of reviews associated with a higher rating?"
   ]
  },
  {
   "cell_type": "code",
   "execution_count": null,
   "metadata": {},
   "outputs": [],
   "source": [
    "# Replace None with appropriate text\n",
    "# \"\"\"\n",
    "# None\n",
    "# \"\"\""
   ]
  },
  {
   "cell_type": "markdown",
   "metadata": {},
   "source": [
    "## 4. Create a Folium Map\n",
    "\n",
    "Make a map using Folium of the businesses you retrieved. Be sure to also add popups to the markers giving some basic information such as name, rating and price.\n",
    "\n",
    "You can center the map around the latitude and longitude of the first item in `full_dataset`."
   ]
  },
  {
   "cell_type": "code",
   "execution_count": 35,
   "metadata": {},
   "outputs": [
    {
     "data": {
      "text/html": [
       "<div style=\"width:100%;\"><div style=\"position:relative;width:100%;height:0;padding-bottom:60%;\"><span style=\"color:#565656\">Make this Notebook Trusted to load map: File -> Trust Notebook</span><iframe src=\"about:blank\" style=\"position:absolute;width:100%;height:100%;left:0;top:0;border:none !important;\" data-html=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 onload=\"this.contentDocument.open();this.contentDocument.write(atob(this.getAttribute('data-html')));this.contentDocument.close();\" allowfullscreen webkitallowfullscreen mozallowfullscreen></iframe></div></div>"
      ],
      "text/plain": [
       "<folium.folium.Map at 0x236a623afa0>"
      ]
     },
     "execution_count": 35,
     "metadata": {},
     "output_type": "execute_result"
    }
   ],
   "source": [
    "# Replace None with appropriate code\n",
    "\n",
    "# Import the library\n",
    "import folium\n",
    "\n",
    "# Set up center latitude and longitude\n",
    "center_lat = full_dataset[0][\"latitude\"]\n",
    "center_long = full_dataset[0][\"longitude\"]\n",
    "\n",
    "# Initialize map with center lat and long\n",
    "yelp_map = folium.Map([center_lat, center_long], zoom_start=12)\n",
    "\n",
    "# Adjust this limit to see more or fewer businesses\n",
    "limit=100\n",
    "\n",
    "for business in full_dataset[:limit]:\n",
    "    # Extract information about business\n",
    "    lat = business[\"latitude\"]\n",
    "    long = business[\"longitude\"]\n",
    "    name = business[\"name\"]\n",
    "    rating = business[\"rating\"]\n",
    "    price = business[\"price\"]\n",
    "    details = \"{}\\nPrice: {}\\nRating: {}\".format(name,price,rating)\n",
    "    \n",
    "    # Create popup with relevant details\n",
    "    popup = folium.Popup(details)\n",
    "    \n",
    "    # Create marker with relevant lat/long and popup\n",
    "    marker = folium.Marker([lat, long], popup=popup)\n",
    "    \n",
    "    marker.add_to(yelp_map)\n",
    "    \n",
    "yelp_map"
   ]
  },
  {
   "cell_type": "markdown",
   "metadata": {},
   "source": [
    "## Summary\n",
    "\n",
    "Nice work! In this lab, you've made multiple API calls to Yelp in order to paginate through a results set, performing some basic exploratory analysis and then creating a nice interactive map to display the results using Folium! Well done!"
   ]
  }
 ],
 "metadata": {
  "kernelspec": {
   "display_name": "Python 3",
   "language": "python",
   "name": "python3"
  },
  "language_info": {
   "codemirror_mode": {
    "name": "ipython",
    "version": 3
   },
   "file_extension": ".py",
   "mimetype": "text/x-python",
   "name": "python",
   "nbconvert_exporter": "python",
   "pygments_lexer": "ipython3",
   "version": "3.8.5"
  },
  "toc": {
   "base_numbering": 1,
   "nav_menu": {},
   "number_sections": true,
   "sideBar": true,
   "skip_h1_title": false,
   "title_cell": "Table of Contents",
   "title_sidebar": "Contents",
   "toc_cell": false,
   "toc_position": {},
   "toc_section_display": true,
   "toc_window_display": false
  }
 },
 "nbformat": 4,
 "nbformat_minor": 2
}
